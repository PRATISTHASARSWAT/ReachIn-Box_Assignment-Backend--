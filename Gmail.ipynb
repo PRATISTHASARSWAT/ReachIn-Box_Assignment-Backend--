{
 "cells": [
  {
   "cell_type": "code",
   "execution_count": 60,
   "id": "a713e711-da5e-4789-9d90-8b59f3ffa050",
   "metadata": {},
   "outputs": [],
   "source": [
    "from simplegmail import Gmail\n",
    "from simplegmail.query import construct_query"
   ]
  },
  {
   "cell_type": "code",
   "execution_count": 81,
   "id": "855f83c5-090f-4912-a6e5-b12dc07fe3f1",
   "metadata": {},
   "outputs": [],
   "source": [
    "gmail = Gmail()"
   ]
  },
  {
   "cell_type": "code",
   "execution_count": 134,
   "id": "7256dc4f-6158-4e06-84f5-76674a9fe624",
   "metadata": {},
   "outputs": [],
   "source": [
    "emails = gmail.get_unread_inbox()"
   ]
  },
  {
   "cell_type": "code",
   "execution_count": 64,
   "id": "c9a66c0c-7cd6-4ef0-a4ec-f9471fc8ab1c",
   "metadata": {},
   "outputs": [],
   "source": [
    "import torch\n",
    "from transformers import BertTokenizer, BertForSequenceClassification"
   ]
  },
  {
   "cell_type": "code",
   "execution_count": 74,
   "id": "420c60e4-0320-4cc6-b180-16d5f33026ef",
   "metadata": {},
   "outputs": [],
   "source": [
    "model = BertForSequenceClassification.from_pretrained(\"model\")\n",
    "tokenizer = BertTokenizer.from_pretrained('bert-base-uncased')"
   ]
  },
  {
   "cell_type": "code",
   "execution_count": 140,
   "id": "13afd7af-f021-4039-9f8e-c8612795ffb9",
   "metadata": {},
   "outputs": [],
   "source": [
    "interested_reply = \"Thank you for your interest in our product! Here are some details about it...\"\n",
    "not_interested_reply = \"Thank you for letting us know. We appreciate your feedback.\"\n",
    "prediction_label = {0: \"Interested\", 1: \"Not Interested\"}\n",
    "to_email = 'devastef98@gmail.com'\n",
    "subject = 'Test Email'"
   ]
  },
  {
   "cell_type": "code",
   "execution_count": 158,
   "id": "fa092804-2c0c-4423-82ec-1a1e6dd38154",
   "metadata": {},
   "outputs": [
    {
     "name": "stdout",
     "output_type": "stream",
     "text": [
      "Content: May I know the price of this product?\n",
      "Prediction: Interested\n",
      "Email sent!\n",
      "--------------------------------------------------\n",
      "Content: Hey. I don't want to receive any more e-mails from you. Please stop sending this product details to me.\n",
      "Prediction: Not Interested\n",
      "Email sent!\n",
      "--------------------------------------------------\n",
      "Content: Hey. I want to know more about this product. Could you please provide more details about this?\n",
      "Prediction: Interested\n",
      "Email sent!\n",
      "--------------------------------------------------\n"
     ]
    }
   ],
   "source": [
    "for email in emails:\n",
    "    sender_email = email.sender\n",
    "    original_subject = email.subject\n",
    "    reply_subject = f\"Re: {original_subject}\"\n",
    "\n",
    "    content = email.snippet\n",
    "    inputs = tokenizer(content, return_tensors='pt')\n",
    "    with torch.no_grad():\n",
    "        outputs = model(**inputs)\n",
    "    logits = outputs.logits\n",
    "    predicted_class = torch.argmax(logits, dim=1).item() # 0 - Interested, 1 - Not Interested\n",
    "    print(f\"Content: {content}\")\n",
    "    print(f\"Prediction: {prediction_label[predicted_class]}\")\n",
    "    try:\n",
    "        if predicted_class == 0:\n",
    "            reply_body = interested_reply\n",
    "        else:\n",
    "            reply_body = not_interested_reply\n",
    "        gmail.send_message(sender='projectdemo8898@gmail.com', to=sender_email, subject=reply_subject, msg_plain=reply_body)\n",
    "        gmail.service.users().messages().modify(userId='me', id=email.id, body={'removeLabelIds': ['UNREAD']}).execute() \n",
    "        print(\"Email sent!\")\n",
    "    except Exception as e:\n",
    "        print(f\"Error occurred while sending email: {str(e)}\")\n",
    "    print(\"-\"*50)"
   ]
  },
  {
   "cell_type": "code",
   "execution_count": null,
   "id": "e477d9b3-6cb3-41d5-8082-3ec640fe00a7",
   "metadata": {},
   "outputs": [],
   "source": []
  }
 ],
 "metadata": {
  "kernelspec": {
   "display_name": "Python 3 (ipykernel)",
   "language": "python",
   "name": "python3"
  },
  "language_info": {
   "codemirror_mode": {
    "name": "ipython",
    "version": 3
   },
   "file_extension": ".py",
   "mimetype": "text/x-python",
   "name": "python",
   "nbconvert_exporter": "python",
   "pygments_lexer": "ipython3",
   "version": "3.11.2"
  }
 },
 "nbformat": 4,
 "nbformat_minor": 5
}
