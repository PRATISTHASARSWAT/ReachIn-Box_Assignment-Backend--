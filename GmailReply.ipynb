{
 "cells": [
  {
   "cell_type": "code",
   "execution_count": 135,
   "id": "7fb2f31d-aae7-410d-9df9-1cb9308ae755",
   "metadata": {},
   "outputs": [],
   "source": [
    "import os\n",
    "import datetime\n",
    "from collections import namedtuple\n",
    "from google_auth_oauthlib.flow import InstalledAppFlow\n",
    "from googleapiclient.discovery import build\n",
    "from google.oauth2.credentials import Credentials\n",
    "from google.auth.transport.requests import Request\n",
    "import base64\n",
    "\n",
    "def create_service(client_secret_file, api_name, api_version, *scopes, prefix=''):\n",
    "    creds = None\n",
    "    token_file = f'token_{api_name}_{api_version}{prefix}.json'\n",
    "\n",
    "    try:\n",
    "        creds = Credentials.from_authorized_user_file(token_file, scopes[0])\n",
    "    except FileNotFoundError:\n",
    "        flow = InstalledAppFlow.from_client_secrets_file(client_secret_file, scopes[0])\n",
    "        creds = flow.run_local_server(port=0)\n",
    "        with open(token_file, 'w') as token:\n",
    "            token.write(creds.to_json())\n",
    "\n",
    "    return build(api_name, api_version, credentials=creds, static_discovery=False)"
   ]
  },
  {
   "cell_type": "code",
   "execution_count": 136,
   "id": "e8951675-3f7c-45f0-b455-186684f90afa",
   "metadata": {},
   "outputs": [],
   "source": [
    "CLIENT_FILE = \"client_secret.json\"\n",
    "API_NAME = \"gmail\"\n",
    "API_VERSION = \"v1\"\n",
    "SCOPES = [\"https://mail.google.com/\"]"
   ]
  },
  {
   "cell_type": "code",
   "execution_count": 139,
   "id": "cbdcb2cf-2ceb-4d38-ab1f-293086603ba8",
   "metadata": {},
   "outputs": [],
   "source": [
    "service = create_service(CLIENT_FILE, API_NAME, API_VERSION, SCOPES)"
   ]
  },
  {
   "cell_type": "code",
   "execution_count": 140,
   "id": "304aa4ca-9708-4d2f-a700-c68c4d3bf0f7",
   "metadata": {},
   "outputs": [],
   "source": [
    "unread_messages = service.users().messages().list(userId='me', q='is:unread').execute()"
   ]
  },
  {
   "cell_type": "code",
   "execution_count": 115,
   "id": "335f1551-62bd-46aa-a515-350c373d5acb",
   "metadata": {},
   "outputs": [],
   "source": [
    "import torch\n",
    "from transformers import BertTokenizer, BertForSequenceClassification\n",
    "model = BertForSequenceClassification.from_pretrained(\"model\")\n",
    "tokenizer = BertTokenizer.from_pretrained('bert-base-uncased')"
   ]
  },
  {
   "cell_type": "code",
   "execution_count": 141,
   "id": "1c66e873-ce9d-4631-bb8d-0a6db72bfafd",
   "metadata": {},
   "outputs": [],
   "source": [
    "interested_reply = \"Thank you for your interest in our product! Here are some details about it...\"\n",
    "not_interested_reply = \"Thank you for letting us know. We appreciate your feedback.\"\n",
    "prediction_label = {0: \"Interested\", 1: \"Not Interested\"}\n",
    "subject = 'Test Email'"
   ]
  },
  {
   "cell_type": "code",
   "execution_count": 142,
   "id": "62c54c9b-9b20-4dca-9b16-b380157c879f",
   "metadata": {},
   "outputs": [
    {
     "name": "stdout",
     "output_type": "stream",
     "text": [
      "Content: Your products are really awesome. Could you please send more details of your product.\n",
      "Prediction: Interested\n",
      "Email sent and marked as read!\n",
      "--------------------------------------------------\n",
      "Content: Stop sending mails to me. I don&#39;t want to receive any mail from you anymore.\n",
      "Prediction: Not Interested\n",
      "Email sent and marked as read!\n",
      "--------------------------------------------------\n"
     ]
    }
   ],
   "source": [
    "if 'messages' in unread_messages:\n",
    "    for message in unread_messages['messages']:\n",
    "        message_id = message['id']  # Get message ID\n",
    "        message = service.users().messages().get(userId='me', id=message_id).execute()  # Fetch full message details\n",
    "        \n",
    "        sender_email, original_subject, message_id = None, None, None\n",
    "        for header in message['payload']['headers']:\n",
    "            if header['name'] == 'From':\n",
    "                sender_email = header['value']\n",
    "            elif header['name'] == 'Subject':\n",
    "                original_subject = header['value']\n",
    "            elif header['name'] == 'Message-ID':\n",
    "                message_id = header['value']\n",
    "            if sender_email and original_subject and message_id:\n",
    "                break\n",
    "        \n",
    "        if not all([sender_email, original_subject, message_id]):\n",
    "            print(\"Error: Sender email, original subject, or message ID not found\")\n",
    "            continue\n",
    "        \n",
    "        reply_subject = f\"Re: {original_subject}\"\n",
    "        content = message['snippet']\n",
    "\n",
    "        inputs = tokenizer(content, return_tensors='pt')\n",
    "        with torch.no_grad():\n",
    "            outputs = model(**inputs)\n",
    "        predicted_class = torch.argmax(outputs.logits, dim=1).item()\n",
    "        print(f\"Content: {content}\")\n",
    "        print(f\"Prediction: {prediction_label[predicted_class]}\")\n",
    "\n",
    "        try:\n",
    "            reply_body = interested_reply if predicted_class == 0 else not_interested_reply\n",
    "\n",
    "            reply_message = f\"From: {to_email}\\r\\nTo: {sender_email}\\r\\nSubject: {reply_subject}\\r\\nReferences: {message['threadId']}\\r\\nIn-Reply-To: {message_id}\\r\\n\\r\\n{reply_body}\"\n",
    "\n",
    "            create_message = {'raw': base64.urlsafe_b64encode(reply_message.encode()).decode(), 'threadId': message['threadId']}\n",
    "            sent_message = service.users().messages().send(userId='me', body=create_message).execute()\n",
    "            message_id = message['id']  # Get the ID of the sent message\n",
    "            \n",
    "            # Mark the original message as read\n",
    "            service.users().messages().modify(userId='me', id=message_id, body={'removeLabelIds': ['UNREAD']}).execute()\n",
    "            print(\"Email sent and marked as read!\")\n",
    "        except Exception as e:\n",
    "            print(f\"Error occurred while sending email: {str(e)}\")\n",
    "        print(\"-\" * 50)\n"
   ]
  },
  {
   "cell_type": "code",
   "execution_count": null,
   "id": "0dec9834-d1e7-4c58-852e-2061029c056e",
   "metadata": {},
   "outputs": [],
   "source": []
  }
 ],
 "metadata": {
  "kernelspec": {
   "display_name": "Python 3 (ipykernel)",
   "language": "python",
   "name": "python3"
  },
  "language_info": {
   "codemirror_mode": {
    "name": "ipython",
    "version": 3
   },
   "file_extension": ".py",
   "mimetype": "text/x-python",
   "name": "python",
   "nbconvert_exporter": "python",
   "pygments_lexer": "ipython3",
   "version": "3.11.2"
  }
 },
 "nbformat": 4,
 "nbformat_minor": 5
}
